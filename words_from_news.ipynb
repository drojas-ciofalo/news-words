{
 "cells": [
  {
   "cell_type": "code",
   "execution_count": 1,
   "id": "d0eb4f16-5a99-460d-a5ba-706b7ef0bbe7",
   "metadata": {
    "executionTime": 81,
    "id": "bA5ajAmk7XH6",
    "lastSuccessfullyExecutedCode": "import requests\nimport json\nimport pandas as pd\nimport numpy as np\nimport matplotlib.pyplot as plt\nimport nltk\nfrom wordcloud import WordCloud\nfrom nltk.corpus import stopwords\n\nnltk.download('stopwords')"
   },
   "outputs": [
    {
     "name": "stderr",
     "output_type": "stream",
     "text": [
      "[nltk_data] Downloading package stopwords to\n",
      "[nltk_data]     /home/drojas_ciofalo/nltk_data...\n",
      "[nltk_data]   Package stopwords is already up-to-date!\n"
     ]
    },
    {
     "data": {
      "text/plain": [
       "True"
      ]
     },
     "execution_count": 1,
     "metadata": {},
     "output_type": "execute_result"
    }
   ],
   "source": [
    "import requests\n",
    "import json\n",
    "import pandas as pd\n",
    "import numpy as np\n",
    "import matplotlib.pyplot as plt\n",
    "import nltk\n",
    "from wordcloud import WordCloud\n",
    "from nltk.corpus import stopwords\n",
    "\n",
    "nltk.download('stopwords')"
   ]
  },
  {
   "cell_type": "code",
   "execution_count": 2,
   "id": "09a48f71-f7f8-4f9c-b692-2617519b60b9",
   "metadata": {
    "executionTime": 30,
    "lastSuccessfullyExecutedCode": "def get_news(country):\n    url = \"https://newsdata2.p.rapidapi.com/news\"\n\n    headers = {\n\t    \"X-RapidAPI-Key\": \"3ce6b87bf8mshce4a5a6a77a9d12p1b2843jsn51183bab967d\",\n\t    \"X-RapidAPI-Host\": \"newsdata2.p.rapidapi.com\"\n    }\n\n    response = requests.request(\"GET\", url, headers=headers, params=dict(country=country))\n    return response.json()"
   },
   "outputs": [],
   "source": [
    "def get_news(country):\n",
    "    url = \"https://newsdata2.p.rapidapi.com/news\"\n",
    "\n",
    "    headers = {\n",
    "\t    \"X-RapidAPI-Key\": \"3ce6b87bf8mshce4a5a6a77a9d12p1b2843jsn51183bab967d\",\n",
    "\t    \"X-RapidAPI-Host\": \"newsdata2.p.rapidapi.com\"\n",
    "    }\n",
    "\n",
    "    response = requests.request(\"GET\", url, headers=headers, params=dict(country=country))\n",
    "    return response.json()"
   ]
  },
  {
   "cell_type": "code",
   "execution_count": 3,
   "id": "a23eb833-cd3c-4179-a8c6-d96fe15c200a",
   "metadata": {
    "executionTime": 44,
    "lastSuccessfullyExecutedCode": "def create_df(data):\n    df = pd.DataFrame(data[\"results\"])\n    df[\"content\"] = df[\"content\"].replace(\"’\", \"\", regex=True)\n    return df"
   },
   "outputs": [],
   "source": [
    "def create_df(data):\n",
    "    df = pd.DataFrame(data[\"results\"])\n",
    "    df[\"content\"] = df[\"content\"].replace(\"’\", \"\", regex=True)\n",
    "    return df"
   ]
  },
  {
   "cell_type": "code",
   "execution_count": 4,
   "id": "cec1bef6-be6e-435b-9ef2-1dbf7129f40f",
   "metadata": {
    "executionTime": 19,
    "lastSuccessfullyExecutedCode": "def wordcloud_plot(df, stop_words, country):\n    # Concatenate the text from the column 'content'\n    contents = \" \".join(df[\"content\"])\n\n    # Create the word cloud image\n    word_cloud = WordCloud(background_color='white',\n                       stopwords=stop_words,\n                       width=800,\n                       height=400)\n\n    # Generate the word cloud using the review data\n    word_cloud.generate(contents)\n\n    # Display the word cloud\n    plt.rcParams[\"figure.figsize\"] = (12, 8)\n    plt.imshow(word_cloud, interpolation=\"bilinear\") \n    plt.axis(\"off\")\n    plt.title(\"News from \"+country.upper())\n    plt.show()"
   },
   "outputs": [],
   "source": [
    "def wordcloud_plot(df, stop_words, country):\n",
    "    # Concatenate the text from the column 'content'\n",
    "    contents = \" \".join(df[\"content\"])\n",
    "\n",
    "    # Create the word cloud image\n",
    "    word_cloud = WordCloud(background_color='white',\n",
    "                       stopwords=stop_words,\n",
    "                       width=800,\n",
    "                       height=400)\n",
    "\n",
    "    # Generate the word cloud using the review data\n",
    "    word_cloud.generate(contents)\n",
    "\n",
    "    # Display the word cloud\n",
    "    plt.rcParams[\"figure.figsize\"] = (12, 8)\n",
    "    plt.imshow(word_cloud, interpolation=\"bilinear\") \n",
    "    plt.axis(\"off\")\n",
    "    plt.title(\"News from \"+country.upper())\n",
    "    plt.show()"
   ]
  }
 ],
 "metadata": {
  "colab": {
   "name": "Welcome to DataCamp Workspaces.ipynb",
   "provenance": []
  },
  "kernelspec": {
   "display_name": "Python 3 (ipykernel)",
   "language": "python",
   "name": "python3"
  },
  "language_info": {
   "codemirror_mode": {
    "name": "ipython",
    "version": 3
   },
   "file_extension": ".py",
   "mimetype": "text/x-python",
   "name": "python",
   "nbconvert_exporter": "python",
   "pygments_lexer": "ipython3",
   "version": "3.9.16"
  }
 },
 "nbformat": 4,
 "nbformat_minor": 5
}

{
 "cells": [
  {
   "cell_type": "code",
   "execution_count": 2,
   "id": "61d0901a",
   "metadata": {},
   "outputs": [
    {
     "name": "stdout",
     "output_type": "stream",
     "text": [
      "Collecting Selenium\n",
      "  Downloading selenium-4.8.2-py3-none-any.whl (6.9 MB)\n",
      "\u001b[2K     \u001b[38;2;114;156;31m━━━━━━━━━━━━━━━━━━━━━━━━━━━━━━━━━━━━━━━━\u001b[0m \u001b[32m6.9/6.9 MB\u001b[0m \u001b[31m20.9 MB/s\u001b[0m eta \u001b[36m0:00:00\u001b[0m[36m0:00:01\u001b[0mm eta \u001b[36m0:00:01\u001b[0m\n",
      "\u001b[?25hRequirement already satisfied: urllib3[socks]~=1.26 in ./project_venv/lib64/python3.11/site-packages (from Selenium) (1.26.15)\n",
      "Collecting trio~=0.17\n",
      "  Downloading trio-0.22.0-py3-none-any.whl (384 kB)\n",
      "\u001b[2K     \u001b[38;2;114;156;31m━━━━━━━━━━━━━━━━━━━━━━━━━━━━━━━━━━━━━━\u001b[0m \u001b[32m384.9/384.9 kB\u001b[0m \u001b[31m49.3 MB/s\u001b[0m eta \u001b[36m0:00:00\u001b[0m\n",
      "\u001b[?25hCollecting trio-websocket~=0.9\n",
      "  Downloading trio_websocket-0.10.2-py3-none-any.whl (17 kB)\n",
      "Requirement already satisfied: certifi>=2021.10.8 in ./project_venv/lib64/python3.11/site-packages (from Selenium) (2022.12.7)\n",
      "Requirement already satisfied: attrs>=19.2.0 in ./project_venv/lib64/python3.11/site-packages (from trio~=0.17->Selenium) (22.2.0)\n",
      "Collecting sortedcontainers\n",
      "  Downloading sortedcontainers-2.4.0-py2.py3-none-any.whl (29 kB)\n",
      "Collecting async-generator>=1.9\n",
      "  Downloading async_generator-1.10-py3-none-any.whl (18 kB)\n",
      "Requirement already satisfied: idna in ./project_venv/lib64/python3.11/site-packages (from trio~=0.17->Selenium) (3.4)\n",
      "Collecting outcome\n",
      "  Downloading outcome-1.2.0-py2.py3-none-any.whl (9.7 kB)\n",
      "Requirement already satisfied: sniffio in ./project_venv/lib64/python3.11/site-packages (from trio~=0.17->Selenium) (1.3.0)\n",
      "Collecting exceptiongroup\n",
      "  Downloading exceptiongroup-1.1.1-py3-none-any.whl (14 kB)\n",
      "Collecting wsproto>=0.14\n",
      "  Downloading wsproto-1.2.0-py3-none-any.whl (24 kB)\n",
      "Collecting PySocks!=1.5.7,<2.0,>=1.5.6\n",
      "  Downloading PySocks-1.7.1-py3-none-any.whl (16 kB)\n",
      "Collecting h11<1,>=0.9.0\n",
      "  Downloading h11-0.14.0-py3-none-any.whl (58 kB)\n",
      "\u001b[2K     \u001b[38;2;114;156;31m━━━━━━━━━━━━━━━━━━━━━━━━━━━━━━━━━━━━━━━━\u001b[0m \u001b[32m58.3/58.3 kB\u001b[0m \u001b[31m24.5 MB/s\u001b[0m eta \u001b[36m0:00:00\u001b[0m\n",
      "\u001b[?25hInstalling collected packages: sortedcontainers, PySocks, outcome, h11, exceptiongroup, async-generator, wsproto, trio, trio-websocket, Selenium\n",
      "Successfully installed PySocks-1.7.1 Selenium-4.8.2 async-generator-1.10 exceptiongroup-1.1.1 h11-0.14.0 outcome-1.2.0 sortedcontainers-2.4.0 trio-0.22.0 trio-websocket-0.10.2 wsproto-1.2.0\n"
     ]
    }
   ],
   "source": [
    "!pip install Selenium"
   ]
  },
  {
   "cell_type": "code",
   "execution_count": 6,
   "id": "ffbefcbd",
   "metadata": {},
   "outputs": [
    {
     "name": "stdout",
     "output_type": "stream",
     "text": [
      "{'ok': True, 'result': [{'update_id': 469684552, 'message': {'message_id': 2, 'from': {'id': 379431918, 'is_bot': False, 'first_name': 'Diana', 'last_name': 'Rojas', 'username': 'DRojasCiofalo', 'language_code': 'en'}, 'chat': {'id': 379431918, 'first_name': 'Diana', 'last_name': 'Rojas', 'username': 'DRojasCiofalo', 'type': 'private'}, 'date': 1679436363, 'text': 'import requests\\nTOKEN = \"6268186414:AAF2J9zEPrH8f6Xj-gknE_lk5DYEr8S2DRQ\"\\nurl = f\"https://api.telegram.org/bot{TOKEN}/getUpdates\"\\nprint(requests.get(url).json())', 'entities': [{'offset': 25, 'length': 10, 'type': 'phone_number'}, {'offset': 81, 'length': 46, 'type': 'url'}]}}]}\n"
     ]
    }
   ],
   "source": [
    "import requests\n",
    "TOKEN = \"6268186414:AAF2J9zEPrH8f6Xj-gknE_lk5DYEr8S2DRQ\"\n",
    "url = f\"https://api.telegram.org/bot{TOKEN}/getUpdates\"\n",
    "print(requests.get(url).json())"
   ]
  },
  {
   "cell_type": "code",
   "execution_count": 9,
   "id": "4b74bcec",
   "metadata": {},
   "outputs": [
    {
     "name": "stdout",
     "output_type": "stream",
     "text": [
      "{'ok': False, 'error_code': 404, 'description': 'Not Found'}\n"
     ]
    }
   ],
   "source": [
    "import requests\n",
    "TOKEN = \"YOUR TELEGRAM BOT TOKEN\"\n",
    "chat_id = \"379431918\"\n",
    "message = \"hello from your telegram bot\"\n",
    "url = f\"https://api.telegram.org/bot{TOKEN}/sendMessage?chat_id={chat_id}&text={message}\"\n",
    "print(requests.post(url).json()) # this sends the message"
   ]
  },
  {
   "cell_type": "code",
   "execution_count": null,
   "id": "55b9191a",
   "metadata": {},
   "outputs": [],
   "source": []
  }
 ],
 "metadata": {
  "kernelspec": {
   "display_name": "Python 3 (ipykernel)",
   "language": "python",
   "name": "python3"
  },
  "language_info": {
   "codemirror_mode": {
    "name": "ipython",
    "version": 3
   },
   "file_extension": ".py",
   "mimetype": "text/x-python",
   "name": "python",
   "nbconvert_exporter": "python",
   "pygments_lexer": "ipython3",
   "version": "3.9.16"
  }
 },
 "nbformat": 4,
 "nbformat_minor": 5
}
